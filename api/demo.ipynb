{
 "cells": [
  {
   "cell_type": "markdown",
   "metadata": {},
   "source": [
    "# <a id='top'></a> REST API of the TREC Metadatabase"
   ]
  },
  {
   "cell_type": "markdown",
   "metadata": {},
   "source": [
    "This notebook documents and exemplifies the use of the REST API and the metadatabase, including the following:  \n",
    "1. [Setup](#setup)   \n",
    "2. [Overview of the API endpoints](#overview)\n",
    "3. [Use case example I: Fetching metadata with the API](#fetching_metadata)\n",
    "4. [Use case example II: Downloading resources](#download) (i.e., input run files) with URLs from the metadata  \n",
    "5. [Use case example III: Plotting the retrieval effectiveness](#plots) of run submissions (by the example of the TREC Deep Learning track)  "
   ]
  },
  {
   "cell_type": "markdown",
   "metadata": {},
   "source": [
    "## 1. <a id='setup'>Setup</a>"
   ]
  },
  {
   "cell_type": "markdown",
   "metadata": {},
   "source": [
    "**Start the docker container with the REST-API server and make sure it is available at `0.0.0.0:5000`.**"
   ]
  },
  {
   "cell_type": "code",
   "execution_count": null,
   "metadata": {},
   "outputs": [],
   "source": [
    "!cd src/ && docker compose up -d"
   ]
  },
  {
   "cell_type": "markdown",
   "metadata": {},
   "source": [
    "**Install the required packages to run the notebook properly.**"
   ]
  },
  {
   "cell_type": "code",
   "execution_count": null,
   "metadata": {},
   "outputs": [],
   "source": [
    "%pip install requests==2.31.0 pandas==2.1.1 matplotlib-inline==0.1.6 seaborn==0.13.0 tqdm==4.66.1"
   ]
  },
  {
   "cell_type": "markdown",
   "metadata": {},
   "source": [
    "## 2. <a id='overview'>Overview of the API endpoints</a>\n",
    "\n",
    "[Go back to top](#top)"
   ]
  },
  {
   "cell_type": "markdown",
   "metadata": {},
   "source": [
    "| API invocation | Example | Description | \n",
    "| --- | --- | --- | \n",
    "| `trec/api/v1/trecs` | [Go to cell](#api_trecs) | Get all identifiers of the TREC conferences in the database, e.g., `trec8` represents the eigth TREC conference in the year 1999. | \n",
    "| `trec/api/v1/<string:trec>/tracks` | [Go to cell](#api_trec_tracks) | Get all tracks of a TREC conference. This call will return track identifiers as keys and their full names as values, e.g., `deep` as the key of the ''Deep Learning'' track.  | \n",
    "| `trec/api/v1/<string:trec>/<string:pid>/tracks` | [Go to cell](#api_trec_pid_tracks) |  Get all tracks in which the participant took part for a specified conference. Some participants submit results to multiple tracks. | \n",
    "| `trec/api/v1/<string:trec>/participants` | [Go to cell](#api_trec_participants) | Get all participants of a TREC iteration. The call will return all identifiers of participants that took part in the specified TREC iteration. | \n",
    "| `trec/api/v1/<string:trec>/<string:track>/participants` | [Go to cell](#api_trec_track_participants) | Get all participants of a track. The call will return all identifiers of participants that took part in the specified track. | \n",
    "| `trec/api/v1/<string:trec>/publications` | [Go to cell](#api_trec_publications) | Get the metadata of all publications of a specified TREC iteration. The output is structured by the single tracks. | \n",
    "| `trec/api/v1/<string:trec>/<string:track>/publications` | [Go to cell](#api_trec_track_publications) | Get the metadata of all publications of a specified track. The metadata will point to all run submissions that can be associated with the publication. | \n",
    "| `trec/api/v1/<string:trec>/<string:track>/results` | [Go to cell](#api_trec_track_results) | Get the evaluation results of the run submissions of of a specified track. The output is structured by the single participants. | \n",
    "| `trec/api/v1/<string:trec>/<string:track>/<string:pid>/results` | [Go to cell](#api_trec_track_pid_results) | Get the evaluation results of the run submissions to a track of of a specified participant. | \n",
    "| `trec/api/v1/<string:trec>/data` | [Go to cell](#api_trec_data) | Get the metadata of all data resources of a specified TREC iteration. The output is structured by the single tracks. | \n",
    "| `trec/api/v1/<string:trec>/<string:track>/data` | [Go to cell](#api_trec_track_data) | Get the metadata of the data resources of a specified track. The output contains the metadata of the corpus, topics, relevance judgments, and others. | \n",
    "| `trec/api/v1/<string:trec>/<string:track>/runs` | [Go to cell](#api_trec_track_runs) | Get the metadata of all runs submitted to a track for a specified conference. The output is structured by the single run identifiers. | \n",
    "| `trec/api/v1/<string:trec>/<string:track>/<string:pid>/runs` | [Go to cell](#api_trec_track_pid_runs) | Get the metadata of all runs of a specified participant at a specified track. The output is similar is similar to the one above but limited to the participant. | \n",
    "| `trec/api/v1/<string:trec>/<string:track>/<string:pid>/<string:runid>` | [Go to cell](#api_trec_track_pid_runid) | Get the metadata of the run with the specified identifier. The call will return the entire metadata available for the run. | \n",
    "| `trec/api/v1/<string:pid>/runs` | [Go to cell](#api_pid_runs) | Get the metadata of all runs from a specified participant. The output contains metadata of runs from possibly different tracks to which the participant contributed runs. | \n",
    "| `trec/api/v1/runs/<string:runid>` | [Go to cell](#api_runs_runid) | Get the metadata of all the runs that have the specified runid. The output includes metadata of runs by different participants submitted to different tracks. | "
   ]
  },
  {
   "cell_type": "markdown",
   "metadata": {},
   "source": [
    "## 3. <a id='fetching_metadata'>Use case example I: Fetching metadata with the API</a>\n",
    "\n",
    "[Go back to top](#top)"
   ]
  },
  {
   "cell_type": "markdown",
   "metadata": {},
   "source": [
    "<a id='api_trecs'></a> `trec/api/v1/trecs`\n",
    "\n",
    "_get all trec conferences in the database_\n",
    "\n",
    "[Go back to overview](#overview)"
   ]
  },
  {
   "cell_type": "code",
   "execution_count": null,
   "metadata": {},
   "outputs": [],
   "source": [
    "import json \n",
    "from requests import get\n",
    "\n",
    "url = 'http://localhost:5000/trec/api/v1/trecs'\n",
    "\n",
    "result = get(url=url).text\n",
    "json.loads(result)"
   ]
  },
  {
   "cell_type": "markdown",
   "metadata": {},
   "source": [
    "<a id='api_trec_tracks'></a> `trec/api/v1/<string:trec>/tracks`  \n",
    "\n",
    "_get all tracks of a TREC conference_\n",
    "\n",
    "[Go back to overview](#overview)"
   ]
  },
  {
   "cell_type": "code",
   "execution_count": null,
   "metadata": {},
   "outputs": [],
   "source": [
    "import json\n",
    "from requests import get\n",
    "\n",
    "url = 'http://localhost:5000/trec/api/v1/trec31/tracks'\n",
    "\n",
    "result = get(url=url).text\n",
    "json.loads(result)"
   ]
  },
  {
   "cell_type": "markdown",
   "metadata": {},
   "source": [
    "<a id='api_trec_pid_tracks'></a> `trec/api/v1/<string:trec>/<string:pid>/tracks`\n",
    "\n",
    "_get all tracks in that a participant took part at a TREC conference_\n",
    "\n",
    "[Go back to overview](#overview)"
   ]
  },
  {
   "cell_type": "code",
   "execution_count": null,
   "metadata": {},
   "outputs": [],
   "source": [
    "import json\n",
    "from requests import get\n",
    "\n",
    "url = 'http://localhost:5000/trec/api/v1/trec31/Webis/tracks'\n",
    "\n",
    "result = get(url=url).text\n",
    "json.loads(result)"
   ]
  },
  {
   "cell_type": "markdown",
   "metadata": {},
   "source": [
    "<a id='api_trec_participants'></a> `trec/api/v1/<string:trec>/participants`\n",
    "\n",
    "_get all participants of a trec conference_\n",
    "\n",
    "[Go back to overview](#overview)"
   ]
  },
  {
   "cell_type": "code",
   "execution_count": null,
   "metadata": {},
   "outputs": [],
   "source": [
    "import json \n",
    "from requests import get\n",
    "\n",
    "url = 'http://localhost:5000/trec/api/v1/{}/{}'.format(\n",
    "    'trec31',\n",
    "    'participants'\n",
    "    )\n",
    "\n",
    "result = get(url=url).text\n",
    "json.loads(result)"
   ]
  },
  {
   "cell_type": "markdown",
   "metadata": {},
   "source": [
    "<a id='api_trec_track_participants'></a> `trec/api/v1/<string:trec>/<string:track>/participants`\n",
    "\n",
    "_get all participants of a track_\n",
    "\n",
    "[Go back to overview](#overview)"
   ]
  },
  {
   "cell_type": "code",
   "execution_count": null,
   "metadata": {},
   "outputs": [],
   "source": [
    "import json \n",
    "from requests import get\n",
    "\n",
    "url = 'http://localhost:5000/trec/api/v1/{}/{}/{}'.format(\n",
    "    'trec31',\n",
    "    'neuclir',\n",
    "    'participants'\n",
    "    )\n",
    "\n",
    "result = get(url=url).text\n",
    "json.loads(result)"
   ]
  },
  {
   "cell_type": "markdown",
   "metadata": {},
   "source": [
    "<a id='api_trec_publications'></a> `trec/api/v1/<string:trec>/publications`  \n",
    "\n",
    "_get all publications of a specified TREC iteration_\n",
    "\n",
    "[Go back to overview](#overview)"
   ]
  },
  {
   "cell_type": "code",
   "execution_count": null,
   "metadata": {},
   "outputs": [],
   "source": [
    "import json\n",
    "from requests import get\n",
    "\n",
    "url = 'http://localhost:5000/trec/api/v1/trec31/publications'\n",
    "\n",
    "result = get(url=url).text\n",
    "json.loads(result)"
   ]
  },
  {
   "cell_type": "markdown",
   "metadata": {},
   "source": [
    "<a id='api_trec_track_publications'></a> `trec/api/v1/<string:trec>/<string:track>/publications`  \n",
    "\n",
    "_get all publications of a specified track_\n",
    "\n",
    "[Go back to overview](#overview)"
   ]
  },
  {
   "cell_type": "code",
   "execution_count": null,
   "metadata": {},
   "outputs": [],
   "source": [
    "import json\n",
    "from requests import get\n",
    "\n",
    "url = 'http://localhost:5000/trec/api/v1/trec31/neuclir/publications'\n",
    "\n",
    "result = get(url=url).text\n",
    "\n",
    "json.loads(result)"
   ]
  },
  {
   "cell_type": "markdown",
   "metadata": {},
   "source": [
    "<a id='api_trec_track_results'></a> `trec/api/v1/<string:trec>/<string:track>/results`  \n",
    "\n",
    "_get all evaluation results of runs submitted to a track_\n",
    "\n",
    "[Go back to overview](#overview)"
   ]
  },
  {
   "cell_type": "code",
   "execution_count": null,
   "metadata": {},
   "outputs": [],
   "source": [
    "import json\n",
    "from requests import get\n",
    "\n",
    "url = 'http://localhost:5000/trec/api/v1/trec31/deep/results'\n",
    "\n",
    "result = get(url=url).text\n",
    "json.loads(result)"
   ]
  },
  {
   "cell_type": "markdown",
   "metadata": {},
   "source": [
    "<a id='api_trec_track_pid_results'></a> `trec/api/v1/<string:trec>/<string:track>/<string:pid>/results`  \n",
    "\n",
    "_get all evaluation results of runs submitted by a participant to a track_\n",
    "\n",
    "[Go back to overview](#overview)"
   ]
  },
  {
   "cell_type": "code",
   "execution_count": null,
   "metadata": {},
   "outputs": [],
   "source": [
    "import json\n",
    "from requests import get\n",
    "\n",
    "url = 'http://localhost:5000/trec/api/v1/trec31/deep/UGA/results'\n",
    "\n",
    "result = get(url=url).text\n",
    "json.loads(result)"
   ]
  },
  {
   "cell_type": "markdown",
   "metadata": {},
   "source": [
    "<a id='api_trec_data'></a> `trec/api/v1/<string:trec>/data`  \n",
    "\n",
    "_get all data resources of a TREC conference_\n",
    "\n",
    "[Go back to overview](#overview)"
   ]
  },
  {
   "cell_type": "code",
   "execution_count": null,
   "metadata": {},
   "outputs": [],
   "source": [
    "import json\n",
    "from requests import get\n",
    "\n",
    "url = 'http://localhost:5000/trec/api/v1/trec31/data'\n",
    "\n",
    "result = get(url=url).text\n",
    "json.loads(result)"
   ]
  },
  {
   "cell_type": "markdown",
   "metadata": {},
   "source": [
    "<a id='api_trec_track_data'></a> `trec/api/v1/<string:trec>/<string:track>/data`  \n",
    "\n",
    "_get all data resources of a track_\n",
    "\n",
    "[Go back to overview](#overview)"
   ]
  },
  {
   "cell_type": "code",
   "execution_count": null,
   "metadata": {},
   "outputs": [],
   "source": [
    "import json\n",
    "from requests import get\n",
    "\n",
    "url = 'http://localhost:5000/trec/api/v1/trec31/deep/data'\n",
    "\n",
    "result = get(url=url).text\n",
    "json.loads(result)"
   ]
  },
  {
   "cell_type": "markdown",
   "metadata": {},
   "source": [
    "<a id='api_trec_track_runs'></a> `trec/api/v1/<string:trec>/<string:track>/runs`\n",
    "\n",
    "_get all runs of a specified track_\n",
    "\n",
    "[Go back to overview](#overview)"
   ]
  },
  {
   "cell_type": "code",
   "execution_count": null,
   "metadata": {},
   "outputs": [],
   "source": [
    "import json \n",
    "from requests import get\n",
    "\n",
    "url = 'http://localhost:5000/trec/api/v1/{}/{}/{}'.format(\n",
    "    'trec31',\n",
    "    'neuclir',\n",
    "    'runs'\n",
    "    )\n",
    "\n",
    "result = get(url=url).text\n",
    "json.loads(result)"
   ]
  },
  {
   "cell_type": "markdown",
   "metadata": {},
   "source": [
    "<a id='api_trec_track_pid_runs'></a> `trec/api/v1/<string:trec>/<string:track>/<string:pid>/runs`\n",
    "\n",
    "_get all runs from a specified participant at a specified track_\n",
    "\n",
    "[Go back to overview](#overview)"
   ]
  },
  {
   "cell_type": "code",
   "execution_count": null,
   "metadata": {},
   "outputs": [],
   "source": [
    "import json \n",
    "from requests import get\n",
    "\n",
    "url = 'http://localhost:5000/trec/api/v1/{}/{}/{}/{}'.format(\n",
    "    'trec31', \n",
    "    'neuclir', \n",
    "    'CFDA_CLIP',\n",
    "    'runs'\n",
    "    )\n",
    "\n",
    "result = get(url=url).text\n",
    "\n",
    "json.loads(result)"
   ]
  },
  {
   "cell_type": "markdown",
   "metadata": {},
   "source": [
    "<a id='api_trec_track_pid_runid'></a> `trec/api/v1/<string:trec>/<string:track>/<string:pid>/<string:runid>`\n",
    "\n",
    "_get the run with specified runid_\n",
    "\n",
    "[Go back to overview](#overview)"
   ]
  },
  {
   "cell_type": "code",
   "execution_count": null,
   "metadata": {},
   "outputs": [],
   "source": [
    "import json \n",
    "from requests import get\n",
    "\n",
    "url = 'http://localhost:5000/trec/api/v1/{}/{}/{}/{}'.format(\n",
    "    'trec31', \n",
    "    'neuclir', \n",
    "    'CFDA_CLIP', \n",
    "    'CFDA_CLIP_dq'\n",
    "    )\n",
    "\n",
    "result = get(url=url).text\n",
    "json.loads(result)"
   ]
  },
  {
   "cell_type": "markdown",
   "metadata": {},
   "source": [
    "_another example_"
   ]
  },
  {
   "cell_type": "code",
   "execution_count": null,
   "metadata": {},
   "outputs": [],
   "source": [
    "import json \n",
    "from requests import get\n",
    "\n",
    "url = 'http://localhost:5000/trec/api/v1/{}/{}/{}/{}'.format(\n",
    "    'trec31', \n",
    "    'deep', \n",
    "    'Webis', \n",
    "    'webis-dl-duot5'\n",
    "    )\n",
    "\n",
    "result = get(url=url).text\n",
    "\n",
    "from pprint import pprint \n",
    "print(json.dumps(json.loads(result), indent=4))\n"
   ]
  },
  {
   "cell_type": "markdown",
   "metadata": {},
   "source": [
    "<a id='api_pid_runs'></a> `trec/api/v1/<string:pid>/runs/`\n",
    "\n",
    "_get all runs from a specified participant_\n",
    "\n",
    "[Go back to overview](#overview)"
   ]
  },
  {
   "cell_type": "code",
   "execution_count": null,
   "metadata": {},
   "outputs": [],
   "source": [
    "import json \n",
    "from requests import get\n",
    "\n",
    "url = 'http://localhost:5000/trec/api/v1/{}/{}'.format(\n",
    "    'DOSSIER', \n",
    "    'runs'\n",
    "    )\n",
    "\n",
    "result = get(url=url).text\n",
    "json.loads(result)"
   ]
  },
  {
   "cell_type": "markdown",
   "metadata": {},
   "source": [
    "<a id='api_runs_runid'></a> `trec/api/v1/runs/<string:runid>`\n",
    "\n",
    "_get all the runs with the specified runid (includes multiple tracks)_\n",
    "\n",
    "[Go back to overview](#overview)"
   ]
  },
  {
   "cell_type": "code",
   "execution_count": null,
   "metadata": {},
   "outputs": [],
   "source": [
    "import json \n",
    "from requests import get\n",
    "\n",
    "url = 'http://localhost:5000/trec/api/v1/{}/{}'.format(\n",
    "    'runs', \n",
    "    'baseline'\n",
    "    )\n",
    "\n",
    "result = get(url=url).text\n",
    "\n",
    "json.loads(result)"
   ]
  },
  {
   "cell_type": "markdown",
   "metadata": {},
   "source": [
    "## 4. <a id='download'>Use case example II: Downloading resources</a>\n",
    "\n",
    "[Go back to top](#top)"
   ]
  },
  {
   "cell_type": "code",
   "execution_count": null,
   "metadata": {},
   "outputs": [],
   "source": [
    "import json \n",
    "import time \n",
    "from pathlib import Path\n",
    "from requests import get\n",
    "from tqdm import tqdm \n",
    "\n",
    "# credentials can be obtained from the TREC program manager\n",
    "u = '<//insert username//>'\n",
    "p = '<//insert password//>'\n",
    "\n",
    "url = 'http://localhost:5000/trec/api/v1/trec31/deep/runs'\n",
    "result = get(url=url).text\n",
    "runs = json.loads(result)\n",
    "out_dir = 'trec31/deep/'\n",
    "Path(out_dir).mkdir(parents=True, exist_ok=True)\n",
    "\n",
    "for run in tqdm(runs):\n",
    "    input_url = run.get('input_url')\n",
    "    file_name = input_url.split('/')[-1]\n",
    "    time.sleep(1)\n",
    "    r = get(url, auth=(u, p))\n",
    "    file_path = ''.join([out_dir, file_name])\n",
    "    open(file_path, 'wb').write(r.content)"
   ]
  },
  {
   "cell_type": "markdown",
   "metadata": {},
   "source": [
    "## 5. <a id='plots'>Use case example III: Example plots</a>\n",
    "\n",
    "[Go back to top](#top)"
   ]
  },
  {
   "cell_type": "markdown",
   "metadata": {},
   "source": [
    "**TREC-31 Deep Learning - Passage Ranking**"
   ]
  },
  {
   "cell_type": "code",
   "execution_count": null,
   "metadata": {},
   "outputs": [],
   "source": [
    "import json \n",
    "from requests import get\n",
    "import pandas as pd\n",
    "%matplotlib inline\n",
    "import matplotlib.pyplot as plt\n",
    "import seaborn as sns\n",
    "sns.set_theme()\n",
    "\n",
    "url = 'http://localhost:5000/trec/api/v1/trec31/deep/runs'\n",
    "\n",
    "result = get(url=url).text\n",
    "runs = json.loads(result)\n",
    "\n",
    "df_data = []\n",
    "for r in runs:\n",
    "    if r.get('type') == 'auto' and r.get('task') == 'passages':\n",
    "        df_data.append(\n",
    "            {\n",
    "                'runid': r.get('runid'),\n",
    "                'nDCG@10': float(r.get('results').get('ndcg').get('all').get('ndcg_cut_10')),\n",
    "            }\n",
    "        )\n",
    "\n",
    "df = pd.DataFrame(df_data)\n",
    "df = df.sort_values('nDCG@10', ascending=False)\n",
    " \n",
    "fig, axes = plt.subplots(figsize=(18,3))\n",
    "plt.xticks(rotation='vertical')\n",
    "plt.title('TREC Deep Learning 2022 - Passage Ranking')\n",
    "_ = axes.stem(df['runid'], df['nDCG@10'], basefmt=' ', markerfmt = 'd', label='nDCG@10') \n",
    "_ = plt.legend()"
   ]
  },
  {
   "cell_type": "markdown",
   "metadata": {},
   "source": [
    "**TREC-30 Deep Learning - Passage Ranking**"
   ]
  },
  {
   "cell_type": "code",
   "execution_count": null,
   "metadata": {},
   "outputs": [],
   "source": [
    "import json \n",
    "from requests import get\n",
    "import pandas as pd\n",
    "%matplotlib inline\n",
    "import matplotlib.pyplot as plt\n",
    "import seaborn as sns\n",
    "sns.set_theme()\n",
    "\n",
    "url = 'http://localhost:5000/trec/api/v1/trec30/deep/runs'\n",
    "\n",
    "result = get(url=url).text\n",
    "runs = json.loads(result)\n",
    "\n",
    "df_data = []\n",
    "for r in runs:\n",
    "    if r.get('type') == 'auto' and r.get('task') == 'passages':\n",
    "        df_data.append(\n",
    "            {\n",
    "                'runid': r.get('runid'),\n",
    "                'nDCG@10': float(r.get('results').get('passages-eval').get('all').get('ndcg_cut_10')),\n",
    "            }\n",
    "        )\n",
    "\n",
    "df = pd.DataFrame(df_data)\n",
    "df = df.sort_values('nDCG@10', ascending=False)\n",
    " \n",
    "fig, axes = plt.subplots(figsize=(12,3))\n",
    "plt.xticks(rotation='vertical')\n",
    "plt.title('TREC Deep Learning 2021 - Passage Ranking')\n",
    "_ = axes.stem(df['runid'], df['nDCG@10'], basefmt=' ', markerfmt = 'd', label='nDCG@10') \n",
    "_ = plt.legend()"
   ]
  },
  {
   "cell_type": "markdown",
   "metadata": {},
   "source": [
    "**TREC-29 Deep Learning - Passage Ranking**"
   ]
  },
  {
   "cell_type": "code",
   "execution_count": null,
   "metadata": {},
   "outputs": [],
   "source": [
    "import json \n",
    "from requests import get\n",
    "import pandas as pd\n",
    "%matplotlib inline\n",
    "import matplotlib.pyplot as plt\n",
    "import seaborn as sns\n",
    "sns.set_theme()\n",
    "\n",
    "url = 'http://localhost:5000/trec/api/v1/trec29/deep/runs'\n",
    "\n",
    "result = get(url=url).text\n",
    "runs = json.loads(result)\n",
    "\n",
    "df_data = []\n",
    "for r in runs:\n",
    "    if r.get('type') == 'auto' and r.get('task') == 'passages':\n",
    "        df_data.append(\n",
    "            {\n",
    "                'runid': r.get('runid'),\n",
    "                'nDCG@10': float(r.get('results').get('passages-eval').get('all').get('ndcg_cut_10')),\n",
    "            }\n",
    "        )\n",
    "\n",
    "df = pd.DataFrame(df_data)\n",
    "df = df.sort_values('nDCG@10', ascending=False)\n",
    " \n",
    "fig, axes = plt.subplots(figsize=(12,3))\n",
    "plt.xticks(rotation='vertical')\n",
    "plt.title('TREC Deep Learning 2020 - Passage Ranking')\n",
    "_ = axes.stem(df['runid'], df['nDCG@10'], basefmt=' ', markerfmt = 'd', label='nDCG@10') \n",
    "_ = plt.legend()"
   ]
  },
  {
   "cell_type": "markdown",
   "metadata": {},
   "source": [
    "**TREC-28 Deep Learning - Passage Ranking**"
   ]
  },
  {
   "cell_type": "code",
   "execution_count": null,
   "metadata": {},
   "outputs": [],
   "source": [
    "import json \n",
    "from requests import get\n",
    "import pandas as pd\n",
    "%matplotlib inline\n",
    "import matplotlib.pyplot as plt\n",
    "import seaborn as sns\n",
    "sns.set_theme()\n",
    "\n",
    "url = 'http://localhost:5000/trec/api/v1/trec28/deep/runs'\n",
    "\n",
    "result = get(url=url).text\n",
    "runs = json.loads(result)\n",
    "\n",
    "df_data = []\n",
    "for r in runs:\n",
    "    if r.get('type') == 'auto' and r.get('task') == 'passages':\n",
    "        df_data.append(\n",
    "            {\n",
    "                'runid': r.get('runid'),\n",
    "                'nDCG@10': float(r.get('results').get('passages-eval').get('all').get('ndcg_cut_10')),\n",
    "            }\n",
    "        )\n",
    "\n",
    "df = pd.DataFrame(df_data)\n",
    "df = df.sort_values('nDCG@10', ascending=False)\n",
    " \n",
    "fig, axes = plt.subplots(figsize=(12,3))\n",
    "plt.xticks(rotation='vertical')\n",
    "plt.title('TREC Deep Learning 2019 - Passage Ranking')\n",
    "_ = axes.stem(df['runid'], df['nDCG@10'], basefmt=' ', markerfmt = 'd', label='nDCG@10') \n",
    "_ = plt.legend()"
   ]
  }
 ],
 "metadata": {
  "kernelspec": {
   "display_name": ".venv",
   "language": "python",
   "name": "python3"
  },
  "language_info": {
   "codemirror_mode": {
    "name": "ipython",
    "version": 3
   },
   "file_extension": ".py",
   "mimetype": "text/x-python",
   "name": "python",
   "nbconvert_exporter": "python",
   "pygments_lexer": "ipython3",
   "version": "3.11.6"
  }
 },
 "nbformat": 4,
 "nbformat_minor": 2
}
